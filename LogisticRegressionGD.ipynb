{
 "cells": [
  {
   "cell_type": "markdown",
   "metadata": {},
   "source": [
    "# Logistic Regression Gradient Descent\n",
    "#### w = coef (set initial value)\n",
    "#### Update w!"
   ]
  },
  {
   "cell_type": "code",
   "execution_count": 1,
   "metadata": {
    "id": "pd7Chck4V5kp"
   },
   "outputs": [],
   "source": [
    "# Logistic Regression\n",
    "# Gradient Descent\n",
    "import numpy as np\n",
    "\n",
    "# 시그모이드 함수 정리\n",
    "def sigmoid(z):\n",
    "    return 1/(1+np.exp(-z))\n",
    "\n",
    "# 임계점 비교 위함.\n",
    "def cost(h, y):\n",
    "    return (-y * np.log(h) - (1 - y) * np.log(1 - h)).mean()\n",
    "\n",
    "def logisticGradient(x_data, y_data, w, iteration, lr):\n",
    "    # X는 [x 1] 형식의 행렬이라고 생각하자. Intercept가 있다.\n",
    "    # x_data의 2차원에 대한 shape 값\n",
    "    w = np.zeros(x_data.shape[1])\n",
    "    num_examples, num_features = np.shape(x_data)\n",
    "\n",
    "    for i in range(iteration):\n",
    "        z = np.dot(x_data,w)\n",
    "        hypo = sigmoid(z)\n",
    "        diff = hypo - y_data\n",
    "\n",
    "        cost_v = cost(hypo,y_data)\n",
    "        # cost 함수 편미분\n",
    "        gradient = np.dot(x_data.transpose(),diff)/num_examples\n",
    "        w -= lr*gradient\n",
    "\n",
    "    # if i%100 ==0:\n",
    "    #   print('cost  : ', str(cost_v))\n",
    "    return w\n",
    "\n",
    "# 임계값은 0.5로 설정\n",
    "def predict(x_data,w):\n",
    "    result = sigmoid(np.dot(x_data,w))\n",
    "    return result.round()"
   ]
  },
  {
   "cell_type": "code",
   "execution_count": 2,
   "metadata": {
    "id": "rgrlZl1lWF4U"
   },
   "outputs": [],
   "source": [
    "import numpy as np\n",
    "from sklearn.datasets import load_breast_cancer\n",
    "from sklearn.model_selection import train_test_split\n",
    "cancer = load_breast_cancer()\n",
    "X_train, X_test, y_train, y_test = train_test_split(cancer.data, cancer.target, random_state = 42)\n",
    "\n",
    "w = cancer.data[0]"
   ]
  },
  {
   "cell_type": "code",
   "execution_count": 3,
   "metadata": {
    "id": "Dv8uL64uWF90"
   },
   "outputs": [
    {
     "name": "stderr",
     "output_type": "stream",
     "text": [
      "<ipython-input-1-c70153741f92>:7: RuntimeWarning: overflow encountered in exp\n",
      "  return 1/(1+np.exp(-z))\n",
      "<ipython-input-1-c70153741f92>:11: RuntimeWarning: divide by zero encountered in log\n",
      "  return (-y * np.log(h) - (1 - y) * np.log(1 - h)).mean()\n",
      "<ipython-input-1-c70153741f92>:11: RuntimeWarning: invalid value encountered in multiply\n",
      "  return (-y * np.log(h) - (1 - y) * np.log(1 - h)).mean()\n"
     ]
    },
    {
     "data": {
      "text/plain": [
       "0.2212488394343549"
      ]
     },
     "execution_count": 3,
     "metadata": {},
     "output_type": "execute_result"
    }
   ],
   "source": [
    "w = logisticGradient(X_train,y_train,w,1000,0.1)\n",
    "w = logisticGradient(X_train,y_train,w,1000,0.1)\n",
    "y_pred = predict(X_test,w)\n",
    "np.sqrt(((y_pred-y_test)**2).sum()/len(y_test))"
   ]
  },
  {
   "cell_type": "code",
   "execution_count": null,
   "metadata": {},
   "outputs": [],
   "source": []
  }
 ],
 "metadata": {
  "colab": {
   "authorship_tag": "ABX9TyNRGG7GZPtV4DvhmllK7GfH",
   "collapsed_sections": [],
   "name": "LogisticRegressionGD.ipynb",
   "provenance": []
  },
  "kernelspec": {
   "display_name": "Python 3",
   "language": "python",
   "name": "python3"
  },
  "language_info": {
   "codemirror_mode": {
    "name": "ipython",
    "version": 3
   },
   "file_extension": ".py",
   "mimetype": "text/x-python",
   "name": "python",
   "nbconvert_exporter": "python",
   "pygments_lexer": "ipython3",
   "version": "3.8.5"
  }
 },
 "nbformat": 4,
 "nbformat_minor": 1
}
